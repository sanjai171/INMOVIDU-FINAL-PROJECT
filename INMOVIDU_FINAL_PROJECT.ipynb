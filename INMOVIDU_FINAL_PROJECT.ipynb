{
  "nbformat": 4,
  "nbformat_minor": 0,
  "metadata": {
    "colab": {
      "name": "INMOVIDU FINAL PROJECT.ipynb",
      "provenance": []
    },
    "kernelspec": {
      "name": "python3",
      "display_name": "Python 3"
    }
  },
  "cells": [
    {
      "cell_type": "code",
      "metadata": {
        "id": "9_ZW3-9pPZHt",
        "colab_type": "code",
        "colab": {}
      },
      "source": [
        "from telegram.ext import Updater,CommandHandler,MessageHandler,Filters\n",
        "from Adafruit_IO import Client,Data\n",
        "import os\n",
        "\n",
        "def turnoffthelight(update, context):\n",
        "  context.bot.send_message(chat_id=update.effective_chat.id, text=\"Bulb turned off\")\n",
        "  context.bot.send_photo(chat_id=update.effective_chat.id,photo='https://pngimg.com/uploads/bulb/bulb_PNG1241.png')\n",
        "  send_value(0)\n",
        "def turnonthelight(update, context):\n",
        "  context.bot.send_message(chat_id=update.effective_chat.id, text=\"Bulb turned on\")\n",
        "  context.bot.send_photo(chat_id=update.effective_chat.id,photo='https://img.icons8.com/plasticine/2x/light-on.png')\n",
        "  send_value(1)\n",
        "\n",
        "def send_value(value):\n",
        "  feed = aio.feeds('bot001')\n",
        "  aio.send_data(feed.key,value)\n",
        "\n",
        "def input_message(update, context):\n",
        "  text=update.message.text\n",
        "  if text == 'turnonthelight':\n",
        "    send_value(1)\n",
        "    context.bot.send_message(chat_id=update.effective_chat.id,text=\"Bulb turned on\")\n",
        "    context.bot.send_photo(chat_id=update.effective_chat.id,photo='https://img.icons8.com/plasticine/2x/light-on.png')\n",
        "  elif text == 'turnoffthelight':\n",
        "    send_value(0)\n",
        "    context.bot.send_message(chat_id=update.effective_chat.id,text=\"Bulb turned off\")\n",
        "    context.bot.send_photo(chat_id=update.effective_chat.id,photo='https://pngimg.com/uploads/bulb/bulb_PNG1241.png')\n",
        "\n",
        "def start(update,context):\n",
        "  start_message='''\n",
        "/turnoff the light or 'turn off':To turn off the bulb ,sends value=0 in feed\n",
        "/turnon the light or 'turn on'  :To turn on the bulb ,sends value=1 in feed\n",
        "'''\n",
        "  context.bot.send_message(chat_id=update.effective_chat.id, text=start_message)\n",
        "\n",
        "ADAFRUIT_IO_USERNAME =  os.getenv('ADAFRUIT_IO_USERNAME')\n",
        "ADAFRUIT_IO_KEY = os.getenv('ADAFRUIT_IO_USERNAME')\n",
        "TOKEN = os.getenv('TOKEN')\n",
        "\n",
        "aio = Client(ADAFRUIT_IO_USERNAME,ADAFRUIT_IO_KEY)\n",
        "updater=Updater(TOKEN,use_context=True)\n",
        "dispatcher = updater.dispatcher\n",
        "dispatcher.add_handler(CommandHandler('turnoffthelight',turnoffthelight))\n",
        "dispatcher.add_handler(CommandHandler('turnonthelight',turnonthelight))\n",
        "dispatcher.add_handler(CommandHandler('start',start))\n",
        "dispatcher.add_handler(MessageHandler(Filters.text & (~Filters.command),input_message))\n",
        "updater.start_polling()\n",
        "updater.idle()"
      ],
      "execution_count": null,
      "outputs": []
    }
  ]
}